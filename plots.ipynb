{
 "cells": [
  {
   "cell_type": "code",
   "execution_count": null,
   "id": "0bed3307",
   "metadata": {},
   "outputs": [],
   "source": [
    "import torch\n",
    "import torch.nn.functional as F\n",
    "import numpy as np\n",
    "import os\n",
    "import matplotlib.pyplot as plt\n",
    "import matplotlib.gridspec as gridspec\n",
    "import matplotlib.animation as animation\n",
    "from matplotlib import rc\n",
    "from IPython.display import HTML\n",
    "from matplotlib import rcParams\n",
    "import seaborn as sns\n",
    "from textwrap import wrap\n",
    "from tqdm import tqdm\n",
    "import pandas as pd\n",
    "import re\n",
    "from sklearn.cluster import DBSCAN\n",
    "from sklearn.neighbors import NearestNeighbors\n",
    "from torch_geometric.nn import knn\n",
    "\n",
    "%matplotlib widget"
   ]
  },
  {
   "cell_type": "code",
   "execution_count": 4,
   "id": "4471b3f8",
   "metadata": {},
   "outputs": [],
   "source": [
    "def read_tensors_aux(dir, tensor_names=None):\n",
    "    \"\"\" recursively read tensors from a directory \"\"\"\n",
    "    tensors = {}\n",
    "    for path in os.listdir(dir):\n",
    "        if path.endswith('.pt'):\n",
    "            key = path[:-3]\n",
    "            if tensor_names is None or key in tensor_names:\n",
    "                try:\n",
    "                    tensors[key] = torch.load(os.path.join(dir, path), map_location='cpu')\n",
    "                except Exception as e:\n",
    "                    print(f\"Error loading tensor {key}: {e}\")\n",
    "        elif os.path.isdir(os.path.join(dir, path)):\n",
    "            key = path.split('_')[1] if path.startswith('timestep_') else path \n",
    "            tensors[key] = read_tensors_aux(os.path.join(dir, path), tensor_names=tensor_names)\n",
    "        else:\n",
    "            print(f\"Skipping {path}, not a tensor or directory\")\n",
    "    return tensors\n",
    "\n",
    "def read_tensors(dir, prompts=None, tensor_names=None):\n",
    "    tensors = {}\n",
    "    \n",
    "    prompts = [ x for x in os.listdir(dir) if x in prompts ] if prompts is not None else [ x for x in os.listdir(dir) if os.path.isdir(os.path.join(dir, x)) ]\n",
    "    \n",
    "    for prompt in prompts:\n",
    "        tensors[prompt] = read_tensors_aux(dir=os.path.join(dir, prompt), tensor_names=tensor_names)\n",
    "        \n",
    "    return tensors"
   ]
  },
  {
   "cell_type": "code",
   "execution_count": 5,
   "id": "f007f595",
   "metadata": {},
   "outputs": [],
   "source": [
    "def normalize_tensor(tensor):\n",
    "    \"\"\"\n",
    "    Normalize a tensor to the range [0, 1].\n",
    "    tensor: [f, h, w]\n",
    "    \"\"\"\n",
    "    min_val = tensor.min()\n",
    "    max_val = tensor.max()\n",
    "    if max_val - min_val == 0:\n",
    "        return tensor\n",
    "    t = (tensor - min_val) / (max_val - min_val)\n",
    "    # change type to float32 for better visualization\n",
    "    return t.float()\n",
    "\n",
    "def animate_tensor(tensor, title, save_mp4_filename=None, fps=2, normalize=True):\n",
    "    \"\"\"\n",
    "    tensor: [f, h, w]\n",
    "    title: title of the animation\n",
    "    save_mp4_filename: if provided, saves the animation as an mp4 file with this name\n",
    "    fps: frames per second for the animation\n",
    "    \"\"\"\n",
    "    fig = plt.figure(figsize=(6, 6))\n",
    "    ax = fig.add_subplot(111)\n",
    "    fig.tight_layout()\n",
    "\n",
    "    ax.set_title(title, fontsize=20)\n",
    "    tnsr = normalize_tensor(tensor[0,:,:]) if normalize else tensor[0,:,:]\n",
    "    im = ax.imshow(tnsr, animated=True, cmap='gray')\n",
    "    ax.set_xticks([])\n",
    "    ax.set_yticks([])\n",
    "    # add colorbar\n",
    "    cbar = fig.colorbar(im, ax=ax)\n",
    "\n",
    "    def updatefig(i):\n",
    "        ax.set_title(title, fontsize=20)\n",
    "        t = normalize_tensor(tensor[i, :, :]) if normalize else tensor[i, :, :]\n",
    "        im.set_array(t)\n",
    "        return im,\n",
    "\n",
    "    ani = animation.FuncAnimation(fig, updatefig, frames=tensor.shape[0], interval=50, blit=True)\n",
    "    if save_mp4_filename:\n",
    "        print(f'Saving tensor_visualizations/{save_mp4_filename}.mp4')\n",
    "        ani.save(f'tensor_visualizations/{save_mp4_filename}.mp4', fps=fps, extra_args=['-vcodec', 'libx264'])\n",
    "           \n",
    "    return ani"
   ]
  },
  {
   "cell_type": "code",
   "execution_count": 6,
   "id": "e8346066",
   "metadata": {},
   "outputs": [],
   "source": [
    "prompt = '20250827_095623_physics-03_Two_balls_on_a_white_plane__moving_side_by_side_to_the_right_11_'"
   ]
  },
  {
   "cell_type": "code",
   "execution_count": 7,
   "id": "d51bf077",
   "metadata": {},
   "outputs": [],
   "source": [
    "tensors = read_tensors('tensors/physics', prompts=[prompt])"
   ]
  },
  {
   "cell_type": "code",
   "execution_count": 8,
   "id": "dfa90cae",
   "metadata": {},
   "outputs": [],
   "source": [
    "tensors = tensors[list(tensors.keys())[0]]"
   ]
  },
  {
   "cell_type": "code",
   "execution_count": 9,
   "id": "eee77122",
   "metadata": {},
   "outputs": [
    {
     "data": {
      "text/plain": [
       "['x0_pred_t=0',\n",
       " 'x0_pred_t=1',\n",
       " 'x0_pred_t=10',\n",
       " 'x0_pred_t=2',\n",
       " 'x0_pred_t=3',\n",
       " 'x0_pred_t=4',\n",
       " 'x0_pred_t=5',\n",
       " 'x0_pred_t=6',\n",
       " 'x0_pred_t=7',\n",
       " 'x0_pred_t=8',\n",
       " 'x0_pred_t=9']"
      ]
     },
     "execution_count": 9,
     "metadata": {},
     "output_type": "execute_result"
    }
   ],
   "source": [
    "keys = sorted(list(tensors.keys()))\n",
    "keys"
   ]
  },
  {
   "cell_type": "code",
   "execution_count": 10,
   "id": "53d84035",
   "metadata": {},
   "outputs": [
    {
     "data": {
      "text/plain": [
       "torch.Size([16, 21, 60, 104])"
      ]
     },
     "execution_count": 10,
     "metadata": {},
     "output_type": "execute_result"
    }
   ],
   "source": [
    "tensors[keys[0]].shape"
   ]
  },
  {
   "cell_type": "code",
   "execution_count": 11,
   "id": "06643d18",
   "metadata": {},
   "outputs": [],
   "source": [
    "# if not os.path.exists(f'tensor_visualizations/physics/{prompt}'):\n",
    "#     os.makedirs(f'tensor_visualizations/physics/{prompt}')\n",
    "    \n",
    "# for key in keys:\n",
    "#     animate_tensor(tensors[key][0], title=f'{key}', save_mp4_filename=f'physics/{prompt}/{key}', fps=3)"
   ]
  },
  {
   "cell_type": "code",
   "execution_count": 12,
   "id": "96615c5c",
   "metadata": {},
   "outputs": [],
   "source": [
    "x0_pred = tensors['x0_pred_t=9']  # List all available prompts"
   ]
  },
  {
   "cell_type": "code",
   "execution_count": null,
   "id": "a0ce49ee",
   "metadata": {},
   "outputs": [],
   "source": [
    "def compute_foreground_mask(x0_pred, channel=0, tau=0.1):\n",
    "    x0_pred = x0_pred[channel] # channel 0\n",
    "    f, h, w = x0_pred.shape[0], x0_pred.shape[1], x0_pred.shape[2]\n",
    "    x0_pred = x0_pred.view(f, h*w)\n",
    "\n",
    "    # step 1: normalize tensor to [0, 1] \n",
    "    min_val = x0_pred.min(axis=1).values.unsqueeze(-1)\n",
    "    max_val = x0_pred.max(axis=1).values.unsqueeze(-1)\n",
    "    x0_pred = (x0_pred - min_val) / (max_val - min_val)\n",
    "    \n",
    "    # step 2: take foreground as relu(abs(x0_pred - median) - tau)\n",
    "    med_val = x0_pred.median(axis=1).values.unsqueeze(-1)\n",
    "    x0_pred = F.relu((x0_pred - med_val).abs() - tau)\n",
    "\n",
    "    return x0_pred.view(f, h, w)\n",
    "\n",
    "def compute_objects_masks_on_single_frame(fg_mask, top_p=0.2, kappa=16.0, bg_logit=-2.0, min_samples=5, eps_scale=1.5):\n",
    "    h, w = fg_mask.shape[0], fg_mask.shape[1]\n",
    "\n",
    "    fg_mask = fg_mask.cpu().numpy()\n",
    "    \n",
    "    yy, xx = np.meshgrid(np.arange(h), np.arange(w), indexing='ij')\n",
    "\n",
    "    # step 1: select top-p foreground pixels\n",
    "    fg_mask_flat = fg_mask.reshape(-1)\n",
    "    thres = np.quantile(fg_mask_flat, 1 - top_p)\n",
    "    mask_bools = (fg_mask_flat >= thres)\n",
    "    xs = xx.reshape(-1)[mask_bools].astype(np.float32)\n",
    "    ys = yy.reshape(-1)[mask_bools].astype(np.float32)\n",
    "    ws = fg_mask_flat[mask_bools].astype(np.float32)\n",
    "    pts = np.stack([xs, ys], axis=1)\n",
    "\n",
    "    # step 2: auto-tune eps from kNN distances\n",
    "    k = min(5, len(pts)-1) if len(pts) > 5 else 1\n",
    "    if k >= 1:\n",
    "        nbrs = NearestNeighbors(n_neighbors=k+1, algorithm='auto').fit(pts)\n",
    "        distances, _ = nbrs.kneighbors(pts)\n",
    "        base = np.median(distances[:, -1])\n",
    "        eps = max(1.0, eps_scale * base)\n",
    "    else:\n",
    "        eps = 3.0\n",
    "\n",
    "    # print(eps, len(pts))\n",
    "\n",
    "    # # step 3: cluster using DBSCAN\n",
    "    db = DBSCAN(eps=eps, min_samples=min_samples).fit(pts, sample_weight=ws)\n",
    "    labels = db.labels_\n",
    "\n",
    "    # step 4: create an h*w image\n",
    "    mask = -1 * np.ones((h, w), dtype=np.int32)\n",
    "    for i in range(len(labels)):\n",
    "        if labels[i] != -1:\n",
    "            x, y = int(xs[i]), int(ys[i])\n",
    "            mask[y, x] = labels[i]\n",
    "\n",
    "    return torch.tensor(mask)\n",
    "\n",
    "def compute_objects_masks_old(fg_mask, top_p=0.2, kappa=16.0, bg_logit=-2.0, min_samples=5, eps_scale=1.5):\n",
    "    f, h, w = fg_mask.shape[0], fg_mask.shape[1], fg_mask.shape[2]\n",
    "\n",
    "    all_masks = []\n",
    "    for i in range(f):\n",
    "        masks = compute_objects_masks_on_single_frame(fg_mask[i], top_p=top_p, kappa=kappa, bg_logit=bg_logit, min_samples=min_samples, eps_scale=eps_scale)\n",
    "        all_masks.append(masks)\n",
    "\n",
    "    return torch.stack(all_masks, dim=0) \n",
    "\n",
    "def compute_objects_masks(fg_mask, top_p=0.08, min_samples=10, eps_scale=1.5):\n",
    "    f, h, w = fg_mask.shape[0], fg_mask.shape[1], fg_mask.shape[2]\n",
    "    device = fg_mask.device\n",
    "    dtype = fg_mask.dtype\n",
    "\n",
    "    # step 1: select top-p foreground pixels\n",
    "    fg_mask_flat = fg_mask.view(-1)\n",
    "    thres = torch.quantile(fg_mask_flat, 1 - top_p)\n",
    "    sel_mask = (fg_mask_flat >= thres).to(torch.int32)\n",
    "    idx = torch.nonzero(sel_mask, as_tuple=False).squeeze(1)\n",
    "\n",
    "    # unravel indices\n",
    "    tt = idx // (h * w)\n",
    "    yy = (idx % (h * w)) // w\n",
    "    xx = (idx % (h * w)) % w\n",
    "\n",
    "    # points in 3D space\n",
    "    pts = torch.stack([xx, yy, tt], dim=1).to(device=device, dtype=dtype)\n",
    "    wts = fg_mask_flat[sel_mask].to(device=device, dtype=dtype)\n",
    "\n",
    "    print(pts.shape)\n",
    "\n",
    "    # step 2: auto-tune eps from kNN distances\n",
    "    k = min(min_samples, max(pts.shape[0]-1, 1)) if len(pts) > min_samples else 1\n",
    "    D = torch.cdist(pts, pts)\n",
    "    \n",
    "    if k >= 1:\n",
    "        knn_d, _ = torch.topk(D, k=k+1, largest=False)\n",
    "        base = torch.median(knn_d[:, -1])\n",
    "        eps = torch.clamp(eps_scale * base, min=torch.tensor(1.0, device=device, dtype=dtype)).item()\n",
    "    else:\n",
    "        eps = 3.0\n",
    "\n",
    "    # step 3: cluster using DBSCAN\n",
    "    neighborhoods = D < eps\n",
    "    neighbor_counts = torch.sum(neighborhoods, dim=1)\n",
    "    core_points = neighbor_counts >= min_samples\n",
    "\n",
    "    labels = torch.full((pts.shape[0],), -1, dtype=torch.int32, device=device)\n",
    "    cluster_id = 0\n",
    "    for i in range(pts.shape[0]):\n",
    "        if core_points[i] and labels[i] == -1:\n",
    "            # Start a new cluster\n",
    "            labels[i] = cluster_id\n",
    "            cluster_members = [i]\n",
    "            while cluster_members:\n",
    "                new_members = []\n",
    "                for member in cluster_members:\n",
    "                    neighbors = torch.where(neighborhoods[member] & (labels == -1))[0]\n",
    "                    labels[neighbors] = cluster_id\n",
    "                    new_members.extend(neighbors.tolist())\n",
    "                cluster_members = new_members\n",
    "            cluster_id += 1\n",
    "\n",
    "    # step 4: create an f**w image\n",
    "    mask = torch.full((f, h, w), -1, dtype=torch.int32, device=device)\n",
    "        \n",
    "    valid = labels >= 0\n",
    "    if valid.any():\n",
    "        mask[tt[valid], yy[valid], xx[valid]] = labels[valid]\n",
    "\n",
    "    return mask\n",
    "\n",
    "def compute_physical_properties(fg_mask):\n",
    "    masses = compute_object_masses(fg_mask) # [f, num_objects]\n",
    "    edge_mass = count_pixels_that_touch_edge(fg_mask, masses) # [f, num_objects]\n",
    "    com_positions = compute_center_of_mass_positions(fg_mask, masses) # [f, num_objects, 2]\n",
    "    com_velocities = compute_center_of_mass_velocities(com_positions) # [f, num_objects, 2]\n",
    "\n",
    "    # mass_diff = torch.diff(masses, dim=0)\n",
    "\n",
    "    # momentum = masses.unsqueeze(-1) * com_velocities # [f, num_objects, 2]\n",
    "    # momentum = momentum.permute(0, 2, 1) # [f, 2, num_objects]\n",
    "    # momentum = momentum.sum(dim=-1) # [f, 2]\n",
    "\n",
    "    return masses, edge_mass, com_positions, com_velocities\n",
    "\n",
    "def compute_object_masses(fg_mask):\n",
    "    f = fg_mask.shape[0]\n",
    "    num_objects = fg_mask.max().item() + 1\n",
    "    masses = torch.zeros((f, num_objects), device=fg_mask.device)\n",
    "    for i in range(f):\n",
    "        for j in range(num_objects):\n",
    "            frame_mask = fg_mask[i]\n",
    "            masses[i, j] = (frame_mask == j).sum()\n",
    "    return masses\n",
    "\n",
    "def count_pixels_that_touch_edge(fg_mask, masses):\n",
    "    f = fg_mask.shape[0]\n",
    "    num_objects = fg_mask.max().item() + 1\n",
    "    edge_pixels = torch.zeros((f, num_objects), dtype=torch.float32, device=fg_mask.device)\n",
    "    for i in range(f):\n",
    "        for j in range(num_objects):\n",
    "            frame_mask = fg_mask[i]\n",
    "            if masses[i, j] > 0:\n",
    "                pixels = (frame_mask == j).nonzero(as_tuple=True)\n",
    "                pixels_0 = (pixels[0] == 0).float() + (pixels[0] == frame_mask.shape[0] - 1).float()\n",
    "                pixels_1 = (pixels[1] == 0).float() + (pixels[1] == frame_mask.shape[1] - 1).float()\n",
    "                edge_pixels[i, j] = (pixels_0 + pixels_1).sum()\n",
    "    return edge_pixels\n",
    "\n",
    "def compute_center_of_mass_positions(fg_mask, masses):\n",
    "    f = fg_mask.shape[0]\n",
    "    num_objects = fg_mask.max().item() + 1\n",
    "    com_positions = torch.zeros((f, num_objects, 2), device=fg_mask.device)\n",
    "    for i in range(f):\n",
    "        for j in range(num_objects):\n",
    "            frame_mask = fg_mask[i]\n",
    "            if masses[i, j] > 0:\n",
    "                com_positions[i, j, 0] = (frame_mask == j).nonzero(as_tuple=True)[1].float().mean()\n",
    "                com_positions[i, j, 1] = (frame_mask == j).nonzero(as_tuple=True)[0].float().mean()\n",
    "    return com_positions\n",
    "\n",
    "def compute_center_of_mass_velocities(com_positions):\n",
    "    # Compute velocities as the difference between consecutive frames\n",
    "    return torch.diff(com_positions, dim=0, append=com_positions[-1:])\n",
    "\n",
    "def compute_loss(masses, edge_mass, com_velocities):\n",
    "    losses = {}\n",
    "    mass_diff = torch.abs(torch.diff(masses, dim=0)) # [f-1, num_objects]\n",
    "    edge_mass = edge_mass[:-1]  # [f-1, num_objects]\n",
    "    mass_diff = F.relu(mass_diff - edge_mass) # if mass_diff < edge_mass, treat mass_diff as 0. Otherwise, treat as is.\n",
    "    losses['mass_1'] = mass_diff.sum() # [1], should be zero\n",
    "    losses['mass_2'] = torch.var(mass_diff, dim=0).sum() # [1], should be small\n",
    "    losses['mass_3'] = torch.var(masses, dim=0).sum() # [1], should be small for each object\n",
    "    losses['mass_4'] = torch.abs(mass_diff).sum() # [1], should be small for each object\n",
    "\n",
    "    momentum = masses.unsqueeze(-1) * com_velocities # [f, num_objects, 2]\n",
    "    momentum = momentum[:-1]  # remove last frame which is zero velocity\n",
    "    momentum = momentum.permute(0, 2, 1) # [f-1, 2, num_objects]\n",
    "    momentum = momentum.sum(dim=-1) # [f-1, 2]\n",
    "    losses['momentum_1'] = torch.var(momentum, dim=0).sum() # [1], should be small on every axis\n",
    "    losses['momentum_2'] = torch.abs(torch.diff(momentum, dim=0)).sum() # [1], should be small on every axis\n",
    "\n",
    "    kinetic_energy = 0.5 * masses * torch.norm(com_velocities, dim=-1)**2 # [f, num_objects]\n",
    "    kinetic_energy = kinetic_energy[:-1]  # remove last frame which is zero velocity\n",
    "    kinetic_energy = kinetic_energy.sum(dim=-1) # [f-1]\n",
    "    losses['kinetic_energy_1'] = torch.var(kinetic_energy, dim=0) # [1], should be small\n",
    "    losses['kinetic_energy_2'] = torch.abs(torch.diff(kinetic_energy, dim=0)).sum() # [1], should be small\n",
    "\n",
    "    return losses\n",
    "\n",
    "def compute(x0_pred):\n",
    "    output = compute_foreground_mask(x0_pred, tau=0.1)\n",
    "    output = compute_objects_masks(output)\n",
    "    return output\n",
    "    masses, edge_mass, com_positions, com_velocities = compute_physical_properties(output)\n",
    "\n",
    "    return compute_loss(masses, edge_mass, com_velocities)"
   ]
  },
  {
   "cell_type": "code",
   "execution_count": 23,
   "id": "4a840a10",
   "metadata": {},
   "outputs": [
    {
     "name": "stdout",
     "output_type": "stream",
     "text": [
      "torch.Size([10484, 3])\n"
     ]
    }
   ],
   "source": [
    "output = compute(x0_pred)"
   ]
  },
  {
   "cell_type": "code",
   "execution_count": 24,
   "id": "13277322",
   "metadata": {},
   "outputs": [
    {
     "data": {
      "text/plain": [
       "<matplotlib.animation.FuncAnimation at 0x15cf93d10>"
      ]
     },
     "execution_count": 24,
     "metadata": {},
     "output_type": "execute_result"
    },
    {
     "data": {
      "application/vnd.jupyter.widget-view+json": {
       "model_id": "0764a8b515fb497ca73c2cefa04e66ab",
       "version_major": 2,
       "version_minor": 0
      },
      "image/png": "[encoded data removed]",
      "text/html": [
       "\n",
       "            <div style=\"display: inline-block;\">\n",
       "                <div class=\"jupyter-widgets widget-label\" style=\"text-align: center;\">\n",
       "                    Figure\n",
       "                </div>\n",
       "                <img src='data:image/png;base64,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' width=600.0/>\n",
       "            </div>\n",
       "        "
      ],
      "text/plain": [
       "Canvas(toolbar=Toolbar(toolitems=[('Home', 'Reset original view', 'home', 'home'), ('Back', 'Back to previous …"
      ]
     },
     "metadata": {},
     "output_type": "display_data"
    }
   ],
   "source": [
    "animate_tensor(output, title='fg_masks', fps=5, normalize=False)"
   ]
  },
  {
   "cell_type": "code",
   "execution_count": 269,
   "id": "3072a627",
   "metadata": {},
   "outputs": [
    {
     "data": {
      "text/plain": [
       "{'mass_1': tensor(187.),\n",
       " 'mass_2': tensor(90.7237),\n",
       " 'mass_3': tensor(389.1095),\n",
       " 'mass_4': tensor(187.),\n",
       " 'momentum_1': tensor(7880.9414),\n",
       " 'momentum_2': tensor(1266.8353),\n",
       " 'kinetic_energy_1': tensor(1822.3690),\n",
       " 'kinetic_energy_2': tensor(495.9463)}"
      ]
     },
     "execution_count": 269,
     "metadata": {},
     "output_type": "execute_result"
    }
   ],
   "source": [
    "output"
   ]
  },
  {
   "cell_type": "code",
   "execution_count": null,
   "id": "91db568c",
   "metadata": {},
   "outputs": [
    {
     "ename": "TypeError",
     "evalue": "tuple indices must be integers or slices, not tuple",
     "output_type": "error",
     "traceback": [
      "\u001b[31m---------------------------------------------------------------------------\u001b[39m",
      "\u001b[31mTypeError\u001b[39m                                 Traceback (most recent call last)",
      "\u001b[36mCell\u001b[39m\u001b[36m \u001b[39m\u001b[32mIn[201]\u001b[39m\u001b[32m, line 1\u001b[39m\n\u001b[32m----> \u001b[39m\u001b[32m1\u001b[39m \u001b[43manimate_tensor\u001b[49m\u001b[43m(\u001b[49m\u001b[43moutput\u001b[49m\u001b[43m,\u001b[49m\u001b[43m \u001b[49m\u001b[43mtitle\u001b[49m\u001b[43m=\u001b[49m\u001b[33;43m'\u001b[39;49m\u001b[33;43mfg_masks\u001b[39;49m\u001b[33;43m'\u001b[39;49m\u001b[43m,\u001b[49m\u001b[43m \u001b[49m\u001b[43mfps\u001b[49m\u001b[43m=\u001b[49m\u001b[32;43m5\u001b[39;49m\u001b[43m,\u001b[49m\u001b[43m \u001b[49m\u001b[43mnormalize\u001b[49m\u001b[43m=\u001b[49m\u001b[38;5;28;43;01mFalse\u001b[39;49;00m\u001b[43m)\u001b[49m\n",
      "\u001b[36mCell\u001b[39m\u001b[36m \u001b[39m\u001b[32mIn[137]\u001b[39m\u001b[32m, line 26\u001b[39m, in \u001b[36manimate_tensor\u001b[39m\u001b[34m(tensor, title, save_mp4_filename, fps, normalize)\u001b[39m\n\u001b[32m     23\u001b[39m fig.tight_layout()\n\u001b[32m     25\u001b[39m ax.set_title(title, fontsize=\u001b[32m20\u001b[39m)\n\u001b[32m---> \u001b[39m\u001b[32m26\u001b[39m tnsr = normalize_tensor(tensor[\u001b[32m0\u001b[39m,:,:]) \u001b[38;5;28;01mif\u001b[39;00m normalize \u001b[38;5;28;01melse\u001b[39;00m \u001b[43mtensor\u001b[49m\u001b[43m[\u001b[49m\u001b[32;43m0\u001b[39;49m\u001b[43m,\u001b[49m\u001b[43m:\u001b[49m\u001b[43m,\u001b[49m\u001b[43m:\u001b[49m\u001b[43m]\u001b[49m\n\u001b[32m     27\u001b[39m im = ax.imshow(tnsr, animated=\u001b[38;5;28;01mTrue\u001b[39;00m, cmap=\u001b[33m'\u001b[39m\u001b[33mgray\u001b[39m\u001b[33m'\u001b[39m)\n\u001b[32m     28\u001b[39m ax.set_xticks([])\n",
      "\u001b[31mTypeError\u001b[39m: tuple indices must be integers or slices, not tuple"
     ]
    },
    {
     "data": {
      "application/vnd.jupyter.widget-view+json": {
       "model_id": "665c970d18564c78a48d2d8ba20563b8",
       "version_major": 2,
       "version_minor": 0
      },
      "image/png": "[encoded data removed]",
      "text/html": [
       "\n",
       "            <div style=\"display: inline-block;\">\n",
       "                <div class=\"jupyter-widgets widget-label\" style=\"text-align: center;\">\n",
       "                    Figure\n",
       "                </div>\n",
       "                <img src='data:image/png;base64,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' width=600.0/>\n",
       "            </div>\n",
       "        "
      ],
      "text/plain": [
       "Canvas(toolbar=Toolbar(toolitems=[('Home', 'Reset original view', 'home', 'home'), ('Back', 'Back to previous …"
      ]
     },
     "metadata": {},
     "output_type": "display_data"
    }
   ],
   "source": []
  },
  {
   "cell_type": "code",
   "execution_count": 258,
   "id": "3f7fe839",
   "metadata": {},
   "outputs": [
    {
     "data": {
      "text/plain": [
       "torch.Size([21, 2])"
      ]
     },
     "execution_count": 258,
     "metadata": {},
     "output_type": "execute_result"
    }
   ],
   "source": [
    "masses.shape"
   ]
  },
  {
   "cell_type": "code",
   "execution_count": 265,
   "id": "61b18779",
   "metadata": {},
   "outputs": [],
   "source": [
    "mass_diff = torch.abs(torch.diff(masses, dim=0)) # [f-1, num_objects]\n",
    "edge_mass = edge_mass[:-1]  # [f-1, num_objects]\n",
    "mass_diff = F.relu(mass_diff - edge_mass) # if mass_diff < edge_mass, treat mass_diff as 0. Otherwise, treat as is.\n",
    "conservation_of_mass_loss_1 = mass_diff.sum() # [1], should be zero\n",
    "conservation_of_mass_loss_2 = torch.var(mass_diff, dim=0).sum() # [1], should be small\n",
    "conservation_of_mass_loss_3 = torch.var(masses, dim=0).sum() # [1], should be small for each object\n",
    "conservation_of_mass_loss_4 = torch.abs(mass_diff).sum() # [1], should be small for each object"
   ]
  },
  {
   "cell_type": "code",
   "execution_count": 260,
   "id": "ec4c91e6",
   "metadata": {},
   "outputs": [],
   "source": [
    "momentum = masses.unsqueeze(-1) * com_velocities # [f, num_objects, 2]\n",
    "momentum = momentum[:-1]  # remove last frame which is zero velocity\n",
    "momentum = momentum.permute(0, 2, 1) # [f-1, 2, num_objects]\n",
    "momentum = momentum.sum(dim=-1) # [f-1, 2]\n",
    "momentum_var_loss_1 = torch.var(momentum, dim=0).sum() # [1], should be small on every axis\n",
    "momentum_var_loss_2 = torch.abs(torch.diff(momentum, dim=0)).sum() # [1], should be small on every axis"
   ]
  },
  {
   "cell_type": "code",
   "execution_count": 261,
   "id": "91dc0316",
   "metadata": {},
   "outputs": [],
   "source": [
    "kinetic_energy = 0.5 * masses * torch.norm(com_velocities, dim=-1)**2 # [f, num_objects]\n",
    "kinetic_energy = kinetic_energy[:-1]  # remove last frame which is zero velocity\n",
    "kinetic_energy = kinetic_energy.sum(dim=-1) # [f-1]\n",
    "kinetic_energy_loss_1 = torch.var(kinetic_energy, dim=0) # [1], should be small\n",
    "kinetic_energy_loss_2 = torch.abs(torch.diff(kinetic_energy, dim=0)).sum() # [1], should be small"
   ]
  },
  {
   "cell_type": "code",
   "execution_count": 266,
   "id": "5fc9830a",
   "metadata": {},
   "outputs": [
    {
     "name": "stdout",
     "output_type": "stream",
     "text": [
      "tensor(187.)\n",
      "tensor(90.7237)\n",
      "tensor(389.1095)\n",
      "tensor(187.)\n",
      "tensor(7880.9414)\n",
      "tensor(1266.8353)\n",
      "tensor(1822.3690)\n",
      "tensor(495.9463)\n"
     ]
    }
   ],
   "source": [
    "print(conservation_of_mass_loss_1)\n",
    "print(conservation_of_mass_loss_2)\n",
    "print(conservation_of_mass_loss_3)\n",
    "print(conservation_of_mass_loss_4)\n",
    "print(momentum_var_loss_1)\n",
    "print(momentum_var_loss_2)\n",
    "print(kinetic_energy_loss_1)\n",
    "print(kinetic_energy_loss_2)"
   ]
  },
  {
   "cell_type": "code",
   "execution_count": null,
   "id": "7d018eda",
   "metadata": {},
   "outputs": [],
   "source": []
  }
 ],
 "metadata": {
  "kernelspec": {
   "display_name": "videoenv",
   "language": "python",
   "name": "python3"
  },
  "language_info": {
   "codemirror_mode": {
    "name": "ipython",
    "version": 3
   },
   "file_extension": ".py",
   "mimetype": "text/x-python",
   "name": "python",
   "nbconvert_exporter": "python",
   "pygments_lexer": "ipython3",
   "version": "3.12.9"
  }
 },
 "nbformat": 4,
 "nbformat_minor": 5
}
