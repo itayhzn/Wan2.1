{
 "cells": [
  {
   "cell_type": "code",
   "execution_count": null,
   "id": "0bed3307",
   "metadata": {},
   "outputs": [],
   "source": [
    "import torch\n",
    "import torch.nn.functional as F\n",
    "import numpy as np\n",
    "import os\n",
    "import matplotlib.pyplot as plt\n",
    "import matplotlib.gridspec as gridspec\n",
    "import matplotlib.animation as animation\n",
    "from matplotlib import rc\n",
    "from IPython.display import HTML\n",
    "from matplotlib import rcParams\n",
    "import seaborn as sns\n",
    "from textwrap import wrap\n",
    "from tqdm import tqdm\n",
    "import pandas as pd\n",
    "import re\n",
    "from sklearn.cluster import DBSCAN\n",
    "from sklearn.neighbors import NearestNeighbors\n",
    "from torch_geometric.nn import knn\n",
    "\n",
    "%matplotlib widget"
   ]
  },
  {
   "cell_type": "code",
   "execution_count": 4,
   "id": "4471b3f8",
   "metadata": {},
   "outputs": [],
   "source": [
    "def read_tensors_aux(dir, tensor_names=None):\n",
    "    \"\"\" recursively read tensors from a directory \"\"\"\n",
    "    tensors = {}\n",
    "    for path in os.listdir(dir):\n",
    "        if path.endswith('.pt'):\n",
    "            key = path[:-3]\n",
    "            if tensor_names is None or key in tensor_names:\n",
    "                try:\n",
    "                    tensors[key] = torch.load(os.path.join(dir, path), map_location='cpu')\n",
    "                except Exception as e:\n",
    "                    print(f\"Error loading tensor {key}: {e}\")\n",
    "        elif os.path.isdir(os.path.join(dir, path)):\n",
    "            key = path.split('_')[1] if path.startswith('timestep_') else path \n",
    "            tensors[key] = read_tensors_aux(os.path.join(dir, path), tensor_names=tensor_names)\n",
    "        else:\n",
    "            print(f\"Skipping {path}, not a tensor or directory\")\n",
    "    return tensors\n",
    "\n",
    "def read_tensors(dir, prompts=None, tensor_names=None):\n",
    "    tensors = {}\n",
    "    \n",
    "    prompts = [ x for x in os.listdir(dir) if x in prompts ] if prompts is not None else [ x for x in os.listdir(dir) if os.path.isdir(os.path.join(dir, x)) ]\n",
    "    \n",
    "    for prompt in prompts:\n",
    "        tensors[prompt] = read_tensors_aux(dir=os.path.join(dir, prompt), tensor_names=tensor_names)\n",
    "        \n",
    "    return tensors"
   ]
  },
  {
   "cell_type": "code",
   "execution_count": 5,
   "id": "f007f595",
   "metadata": {},
   "outputs": [],
   "source": [
    "def normalize_tensor(tensor):\n",
    "    \"\"\"\n",
    "    Normalize a tensor to the range [0, 1].\n",
    "    tensor: [f, h, w]\n",
    "    \"\"\"\n",
    "    min_val = tensor.min()\n",
    "    max_val = tensor.max()\n",
    "    if max_val - min_val == 0:\n",
    "        return tensor\n",
    "    t = (tensor - min_val) / (max_val - min_val)\n",
    "    # change type to float32 for better visualization\n",
    "    return t.float()\n",
    "\n",
    "def animate_tensor(tensor, title, save_mp4_filename=None, fps=2, normalize=True):\n",
    "    \"\"\"\n",
    "    tensor: [f, h, w]\n",
    "    title: title of the animation\n",
    "    save_mp4_filename: if provided, saves the animation as an mp4 file with this name\n",
    "    fps: frames per second for the animation\n",
    "    \"\"\"\n",
    "    fig = plt.figure(figsize=(6, 6))\n",
    "    ax = fig.add_subplot(111)\n",
    "    fig.tight_layout()\n",
    "\n",
    "    ax.set_title(title, fontsize=20)\n",
    "    tnsr = normalize_tensor(tensor[0,:,:]) if normalize else tensor[0,:,:]\n",
    "    im = ax.imshow(tnsr, animated=True, cmap='gray')\n",
    "    ax.set_xticks([])\n",
    "    ax.set_yticks([])\n",
    "    # add colorbar\n",
    "    cbar = fig.colorbar(im, ax=ax)\n",
    "\n",
    "    def updatefig(i):\n",
    "        ax.set_title(title, fontsize=20)\n",
    "        t = normalize_tensor(tensor[i, :, :]) if normalize else tensor[i, :, :]\n",
    "        im.set_array(t)\n",
    "        return im,\n",
    "\n",
    "    ani = animation.FuncAnimation(fig, updatefig, frames=tensor.shape[0], interval=50, blit=True)\n",
    "    if save_mp4_filename:\n",
    "        print(f'Saving tensor_visualizations/{save_mp4_filename}.mp4')\n",
    "        ani.save(f'tensor_visualizations/{save_mp4_filename}.mp4', fps=fps, extra_args=['-vcodec', 'libx264'])\n",
    "           \n",
    "    return ani"
   ]
  },
  {
   "cell_type": "code",
   "execution_count": 6,
   "id": "e8346066",
   "metadata": {},
   "outputs": [],
   "source": [
    "prompt = '20250827_095623_physics-03_Two_balls_on_a_white_plane__moving_side_by_side_to_the_right_11_'"
   ]
  },
  {
   "cell_type": "code",
   "execution_count": 7,
   "id": "d51bf077",
   "metadata": {},
   "outputs": [],
   "source": [
    "tensors = read_tensors('tensors/physics', prompts=[prompt])"
   ]
  },
  {
   "cell_type": "code",
   "execution_count": 8,
   "id": "dfa90cae",
   "metadata": {},
   "outputs": [],
   "source": [
    "tensors = tensors[list(tensors.keys())[0]]"
   ]
  },
  {
   "cell_type": "code",
   "execution_count": 9,
   "id": "eee77122",
   "metadata": {},
   "outputs": [
    {
     "data": {
      "text/plain": [
       "['x0_pred_t=0',\n",
       " 'x0_pred_t=1',\n",
       " 'x0_pred_t=10',\n",
       " 'x0_pred_t=2',\n",
       " 'x0_pred_t=3',\n",
       " 'x0_pred_t=4',\n",
       " 'x0_pred_t=5',\n",
       " 'x0_pred_t=6',\n",
       " 'x0_pred_t=7',\n",
       " 'x0_pred_t=8',\n",
       " 'x0_pred_t=9']"
      ]
     },
     "execution_count": 9,
     "metadata": {},
     "output_type": "execute_result"
    }
   ],
   "source": [
    "keys = sorted(list(tensors.keys()))\n",
    "keys"
   ]
  },
  {
   "cell_type": "code",
   "execution_count": 10,
   "id": "53d84035",
   "metadata": {},
   "outputs": [
    {
     "data": {
      "text/plain": [
       "torch.Size([16, 21, 60, 104])"
      ]
     },
     "execution_count": 10,
     "metadata": {},
     "output_type": "execute_result"
    }
   ],
   "source": [
    "tensors[keys[0]].shape"
   ]
  },
  {
   "cell_type": "code",
   "execution_count": 11,
   "id": "06643d18",
   "metadata": {},
   "outputs": [],
   "source": [
    "# if not os.path.exists(f'tensor_visualizations/physics/{prompt}'):\n",
    "#     os.makedirs(f'tensor_visualizations/physics/{prompt}')\n",
    "    \n",
    "# for key in keys:\n",
    "#     animate_tensor(tensors[key][0], title=f'{key}', save_mp4_filename=f'physics/{prompt}/{key}', fps=3)"
   ]
  },
  {
   "cell_type": "code",
   "execution_count": 12,
   "id": "96615c5c",
   "metadata": {},
   "outputs": [],
   "source": [
    "x0_pred = tensors['x0_pred_t=9']  # List all available prompts"
   ]
  },
  {
   "cell_type": "code",
   "execution_count": null,
   "id": "a0ce49ee",
   "metadata": {},
   "outputs": [],
   "source": [
    "def compute_foreground_mask(x0_pred, channel=0, tau=0.1):\n",
    "    x0_pred = x0_pred[channel] # channel 0\n",
    "    f, h, w = x0_pred.shape[0], x0_pred.shape[1], x0_pred.shape[2]\n",
    "    x0_pred = x0_pred.view(f, h*w)\n",
    "\n",
    "    # step 1: normalize tensor to [0, 1] \n",
    "    min_val = x0_pred.min(axis=1).values.unsqueeze(-1)\n",
    "    max_val = x0_pred.max(axis=1).values.unsqueeze(-1)\n",
    "    x0_pred = (x0_pred - min_val) / (max_val - min_val)\n",
    "    \n",
    "    # step 2: take foreground as relu(abs(x0_pred - median) - tau)\n",
    "    med_val = x0_pred.median(axis=1).values.unsqueeze(-1)\n",
    "    x0_pred = F.relu((x0_pred - med_val).abs() - tau)\n",
    "\n",
    "    return x0_pred.view(f, h, w)\n",
    "\n",
    "def downsample_if_needed(fg_mask, top_p=0.1, max_mass=20000):\n",
    "    num_downsamples = 0\n",
    "    while True:\n",
    "        fg_mask_flat = fg_mask.view(-1)\n",
    "        thres = torch.quantile(fg_mask_flat, 1 - top_p)\n",
    "        sel_mask = (fg_mask_flat >= thres).to(torch.int32)\n",
    "        total_mass = sel_mask.sum().item()\n",
    "\n",
    "        if total_mass > max_mass:\n",
    "            fg_mask = F.avg_pool2d(fg_mask.unsqueeze(1), kernel_size=2, stride=2).squeeze(1)\n",
    "            print(f\"Downsampled fg_mask to shape {fg_mask.shape} due to high mass {total_mass}\")\n",
    "            num_downsamples += 1\n",
    "        else:\n",
    "            break\n",
    "\n",
    "    return fg_mask, num_downsamples\n",
    "\n",
    "def compute_objects_masks(fg_mask, top_p=0.1, min_samples=10, eps_scale=1.5):\n",
    "    f, h, w = fg_mask.shape[0], fg_mask.shape[1], fg_mask.shape[2]\n",
    "    device = fg_mask.device\n",
    "    dtype = fg_mask.dtype\n",
    "\n",
    "    # step 1: select top-p foreground pixels\n",
    "    fg_mask_flat = fg_mask.view(-1)\n",
    "    thres = torch.quantile(fg_mask_flat, 1 - top_p)\n",
    "    sel_mask = (fg_mask_flat >= thres).to(torch.int32)\n",
    "    idx = torch.nonzero(sel_mask, as_tuple=False).squeeze(1)\n",
    "\n",
    "    # unravel indices\n",
    "    tt = idx // (h * w)\n",
    "    yy = (idx % (h * w)) // w\n",
    "    xx = (idx % (h * w)) % w\n",
    "\n",
    "    # points in 3D space\n",
    "    pts = torch.stack([xx, yy, tt], dim=1).to(device=device, dtype=dtype)\n",
    "    wts = fg_mask_flat[sel_mask].to(device=device, dtype=dtype)\n",
    "\n",
    "    print(pts.shape)\n",
    "\n",
    "    # step 2: auto-tune eps from kNN distances\n",
    "    k = min(min_samples, max(pts.shape[0]-1, 1)) if len(pts) > min_samples else 1\n",
    "    D = torch.cdist(pts, pts)\n",
    "    \n",
    "    if k >= 1:\n",
    "        knn_d, _ = torch.topk(D, k=k+1, largest=False)\n",
    "        base = torch.median(knn_d[:, -1])\n",
    "        eps = torch.clamp(eps_scale * base, min=torch.tensor(1.0, device=device, dtype=dtype)).item()\n",
    "    else:\n",
    "        eps = 3.0\n",
    "\n",
    "    # step 3: cluster using DBSCAN\n",
    "    neighborhoods = D < eps\n",
    "    neighbor_counts = torch.sum(neighborhoods, dim=1)\n",
    "    core_points = neighbor_counts >= min_samples\n",
    "\n",
    "    labels = torch.full((pts.shape[0],), -1, dtype=torch.int32, device=device)\n",
    "    cluster_id = 0\n",
    "    for i in range(pts.shape[0]):\n",
    "        if core_points[i] and labels[i] == -1:\n",
    "            # Start a new cluster\n",
    "            labels[i] = cluster_id\n",
    "            cluster_members = [i]\n",
    "            while cluster_members:\n",
    "                new_members = []\n",
    "                for member in cluster_members:\n",
    "                    neighbors = torch.where(neighborhoods[member] & (labels == -1))[0]\n",
    "                    labels[neighbors] = cluster_id\n",
    "                    new_members.extend(neighbors.tolist())\n",
    "                cluster_members = new_members\n",
    "            cluster_id += 1\n",
    "\n",
    "    # step 4: create an f**w image\n",
    "    mask = torch.full((f, h, w), -1, dtype=torch.int32, device=device)\n",
    "        \n",
    "    valid = labels >= 0\n",
    "    if valid.any():\n",
    "        mask[tt[valid], yy[valid], xx[valid]] = labels[valid]\n",
    "\n",
    "    return mask\n",
    "\n",
    "def compute_physical_properties(fg_mask):\n",
    "    masses = compute_object_masses(fg_mask) # [f, num_objects]\n",
    "    edge_mass = count_pixels_that_touch_edge(fg_mask, masses) # [f, num_objects]\n",
    "    com_positions = compute_center_of_mass_positions(fg_mask, masses) # [f, num_objects, 2]\n",
    "    com_velocities = compute_center_of_mass_velocities(com_positions) # [f, num_objects, 2]\n",
    "\n",
    "    # mass_diff = torch.diff(masses, dim=0)\n",
    "\n",
    "    # momentum = masses.unsqueeze(-1) * com_velocities # [f, num_objects, 2]\n",
    "    # momentum = momentum.permute(0, 2, 1) # [f, 2, num_objects]\n",
    "    # momentum = momentum.sum(dim=-1) # [f, 2]\n",
    "\n",
    "    return masses, edge_mass, com_positions, com_velocities\n",
    "\n",
    "def compute_object_masses(fg_mask):\n",
    "    f = fg_mask.shape[0]\n",
    "    num_objects = fg_mask.max().item() + 1\n",
    "    masses = torch.zeros((f, num_objects), device=fg_mask.device)\n",
    "    for i in range(f):\n",
    "        for j in range(num_objects):\n",
    "            frame_mask = fg_mask[i]\n",
    "            masses[i, j] = (frame_mask == j).sum()\n",
    "    return masses\n",
    "\n",
    "def count_pixels_that_touch_edge(fg_mask, masses):\n",
    "    f = fg_mask.shape[0]\n",
    "    num_objects = fg_mask.max().item() + 1\n",
    "    edge_pixels = torch.zeros((f, num_objects), dtype=torch.float32, device=fg_mask.device)\n",
    "    for i in range(f):\n",
    "        for j in range(num_objects):\n",
    "            frame_mask = fg_mask[i]\n",
    "            if masses[i, j] > 0:\n",
    "                pixels = (frame_mask == j).nonzero(as_tuple=True)\n",
    "                pixels_0 = (pixels[0] == 0).float() + (pixels[0] == frame_mask.shape[0] - 1).float()\n",
    "                pixels_1 = (pixels[1] == 0).float() + (pixels[1] == frame_mask.shape[1] - 1).float()\n",
    "                edge_pixels[i, j] = (pixels_0 + pixels_1).sum()\n",
    "    return edge_pixels\n",
    "\n",
    "def compute_center_of_mass_positions(fg_mask, masses):\n",
    "    f = fg_mask.shape[0]\n",
    "    num_objects = fg_mask.max().item() + 1\n",
    "    com_positions = torch.zeros((f, num_objects, 2), device=fg_mask.device)\n",
    "    for i in range(f):\n",
    "        for j in range(num_objects):\n",
    "            frame_mask = fg_mask[i]\n",
    "            if masses[i, j] > 0:\n",
    "                com_positions[i, j, 0] = (frame_mask == j).nonzero(as_tuple=True)[1].float().mean()\n",
    "                com_positions[i, j, 1] = (frame_mask == j).nonzero(as_tuple=True)[0].float().mean()\n",
    "    return com_positions\n",
    "\n",
    "def compute_center_of_mass_velocities(com_positions):\n",
    "    # Compute velocities as the difference between consecutive frames\n",
    "    return torch.diff(com_positions, dim=0, append=com_positions[-1:])\n",
    "\n",
    "def compute_loss(masses, edge_mass, com_velocities):\n",
    "    losses = {}\n",
    "    mass_diff = torch.abs(torch.diff(masses, dim=0)) # [f-1, num_objects]\n",
    "    edge_mass = edge_mass[:-1]  # [f-1, num_objects]\n",
    "    mass_diff = F.relu(mass_diff - edge_mass) # if mass_diff < edge_mass, treat mass_diff as 0. Otherwise, treat as is.\n",
    "    losses['mass_1'] = mass_diff.sum() # [1], should be zero\n",
    "    losses['mass_2'] = torch.var(mass_diff, dim=0).sum() # [1], should be small\n",
    "    losses['mass_3'] = torch.var(masses, dim=0).sum() # [1], should be small for each object\n",
    "    losses['mass_4'] = torch.abs(mass_diff).sum() # [1], should be small for each object\n",
    "\n",
    "    momentum = masses.unsqueeze(-1) * com_velocities # [f, num_objects, 2]\n",
    "    momentum = momentum[:-1]  # remove last frame which is zero velocity\n",
    "    momentum = momentum.permute(0, 2, 1) # [f-1, 2, num_objects]\n",
    "    momentum = momentum.sum(dim=-1) # [f-1, 2]\n",
    "    losses['momentum_1'] = torch.var(momentum, dim=0).sum() # [1], should be small on every axis\n",
    "    losses['momentum_2'] = torch.abs(torch.diff(momentum, dim=0)).sum() # [1], should be small on every axis\n",
    "\n",
    "    kinetic_energy = 0.5 * masses * torch.norm(com_velocities, dim=-1)**2 # [f, num_objects]\n",
    "    kinetic_energy = kinetic_energy[:-1]  # remove last frame which is zero velocity\n",
    "    kinetic_energy = kinetic_energy.sum(dim=-1) # [f-1]\n",
    "    losses['kinetic_energy_1'] = torch.var(kinetic_energy, dim=0) # [1], should be small\n",
    "    losses['kinetic_energy_2'] = torch.abs(torch.diff(kinetic_energy, dim=0)).sum() # [1], should be small\n",
    "\n",
    "    return losses\n",
    "\n",
    "def compute(x0_pred):\n",
    "    fg_mask = compute_foreground_mask(x0_pred, tau=0.1)\n",
    "    fg_mask, num_downsamples = downsample_if_needed(fg_mask, max_mass=20000)\n",
    "    output = compute_objects_masks(fg_mask, min_samples=20)\n",
    "    return output\n",
    "    # return output\n",
    "    masses, edge_mass, com_positions, com_velocities = compute_physical_properties(output)\n",
    "\n",
    "    losses = compute_loss(masses, edge_mass, com_velocities)\n",
    "    losses['num_downsamples'] = num_downsamples\n",
    "\n",
    "    return losses"
   ]
  },
  {
   "cell_type": "code",
   "execution_count": 73,
   "id": "4a840a10",
   "metadata": {},
   "outputs": [
    {
     "name": "stdout",
     "output_type": "stream",
     "text": [
      "torch.Size([13104, 3])\n"
     ]
    }
   ],
   "source": [
    "output = compute(x0_pred)"
   ]
  },
  {
   "cell_type": "code",
   "execution_count": 74,
   "id": "13277322",
   "metadata": {},
   "outputs": [
    {
     "data": {
      "text/plain": [
       "<matplotlib.animation.FuncAnimation at 0x16b455d60>"
      ]
     },
     "execution_count": 74,
     "metadata": {},
     "output_type": "execute_result"
    },
    {
     "data": {
      "application/vnd.jupyter.widget-view+json": {
       "model_id": "46ddebb9317842dc9071b31bb228fb1a",
       "version_major": 2,
       "version_minor": 0
      },
      "image/png": "[encoded data removed]",
      "text/html": [
       "\n",
       "            <div style=\"display: inline-block;\">\n",
       "                <div class=\"jupyter-widgets widget-label\" style=\"text-align: center;\">\n",
       "                    Figure\n",
       "                </div>\n",
       "                <img src='data:image/png;base64,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' width=600.0/>\n",
       "            </div>\n",
       "        "
      ],
      "text/plain": [
       "Canvas(toolbar=Toolbar(toolitems=[('Home', 'Reset original view', 'home', 'home'), ('Back', 'Back to previous …"
      ]
     },
     "metadata": {},
     "output_type": "display_data"
    }
   ],
   "source": [
    "animate_tensor(output, title='fg_masks', fps=5, normalize=False)"
   ]
  },
  {
   "cell_type": "code",
   "execution_count": 27,
   "id": "3072a627",
   "metadata": {},
   "outputs": [
    {
     "data": {
      "text/plain": [
       "{'mass_1': tensor(142.),\n",
       " 'mass_2': tensor(64.2895),\n",
       " 'mass_3': tensor(364.7048),\n",
       " 'mass_4': tensor(142.),\n",
       " 'momentum_1': tensor(8212.0996),\n",
       " 'momentum_2': tensor(1334.1326),\n",
       " 'kinetic_energy_1': tensor(1856.6033),\n",
       " 'kinetic_energy_2': tensor(390.6083)}"
      ]
     },
     "execution_count": 27,
     "metadata": {},
     "output_type": "execute_result"
    }
   ],
   "source": [
    "output"
   ]
  },
  {
   "cell_type": "code",
   "execution_count": null,
   "id": "91db568c",
   "metadata": {},
   "outputs": [
    {
     "ename": "TypeError",
     "evalue": "tuple indices must be integers or slices, not tuple",
     "output_type": "error",
     "traceback": [
      "\u001b[31m---------------------------------------------------------------------------\u001b[39m",
      "\u001b[31mTypeError\u001b[39m                                 Traceback (most recent call last)",
      "\u001b[36mCell\u001b[39m\u001b[36m \u001b[39m\u001b[32mIn[201]\u001b[39m\u001b[32m, line 1\u001b[39m\n\u001b[32m----> \u001b[39m\u001b[32m1\u001b[39m \u001b[43manimate_tensor\u001b[49m\u001b[43m(\u001b[49m\u001b[43moutput\u001b[49m\u001b[43m,\u001b[49m\u001b[43m \u001b[49m\u001b[43mtitle\u001b[49m\u001b[43m=\u001b[49m\u001b[33;43m'\u001b[39;49m\u001b[33;43mfg_masks\u001b[39;49m\u001b[33;43m'\u001b[39;49m\u001b[43m,\u001b[49m\u001b[43m \u001b[49m\u001b[43mfps\u001b[49m\u001b[43m=\u001b[49m\u001b[32;43m5\u001b[39;49m\u001b[43m,\u001b[49m\u001b[43m \u001b[49m\u001b[43mnormalize\u001b[49m\u001b[43m=\u001b[49m\u001b[38;5;28;43;01mFalse\u001b[39;49;00m\u001b[43m)\u001b[49m\n",
      "\u001b[36mCell\u001b[39m\u001b[36m \u001b[39m\u001b[32mIn[137]\u001b[39m\u001b[32m, line 26\u001b[39m, in \u001b[36manimate_tensor\u001b[39m\u001b[34m(tensor, title, save_mp4_filename, fps, normalize)\u001b[39m\n\u001b[32m     23\u001b[39m fig.tight_layout()\n\u001b[32m     25\u001b[39m ax.set_title(title, fontsize=\u001b[32m20\u001b[39m)\n\u001b[32m---> \u001b[39m\u001b[32m26\u001b[39m tnsr = normalize_tensor(tensor[\u001b[32m0\u001b[39m,:,:]) \u001b[38;5;28;01mif\u001b[39;00m normalize \u001b[38;5;28;01melse\u001b[39;00m \u001b[43mtensor\u001b[49m\u001b[43m[\u001b[49m\u001b[32;43m0\u001b[39;49m\u001b[43m,\u001b[49m\u001b[43m:\u001b[49m\u001b[43m,\u001b[49m\u001b[43m:\u001b[49m\u001b[43m]\u001b[49m\n\u001b[32m     27\u001b[39m im = ax.imshow(tnsr, animated=\u001b[38;5;28;01mTrue\u001b[39;00m, cmap=\u001b[33m'\u001b[39m\u001b[33mgray\u001b[39m\u001b[33m'\u001b[39m)\n\u001b[32m     28\u001b[39m ax.set_xticks([])\n",
      "\u001b[31mTypeError\u001b[39m: tuple indices must be integers or slices, not tuple"
     ]
    },
    {
     "data": {
      "application/vnd.jupyter.widget-view+json": {
       "model_id": "665c970d18564c78a48d2d8ba20563b8",
       "version_major": 2,
       "version_minor": 0
      },
      "image/png": "[encoded data removed]",
      "text/html": [
       "\n",
       "            <div style=\"display: inline-block;\">\n",
       "                <div class=\"jupyter-widgets widget-label\" style=\"text-align: center;\">\n",
       "                    Figure\n",
       "                </div>\n",
       "                <img src='data:image/png;base64,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' width=600.0/>\n",
       "            </div>\n",
       "        "
      ],
      "text/plain": [
       "Canvas(toolbar=Toolbar(toolitems=[('Home', 'Reset original view', 'home', 'home'), ('Back', 'Back to previous …"
      ]
     },
     "metadata": {},
     "output_type": "display_data"
    }
   ],
   "source": []
  },
  {
   "cell_type": "code",
   "execution_count": 258,
   "id": "3f7fe839",
   "metadata": {},
   "outputs": [
    {
     "data": {
      "text/plain": [
       "torch.Size([21, 2])"
      ]
     },
     "execution_count": 258,
     "metadata": {},
     "output_type": "execute_result"
    }
   ],
   "source": [
    "masses.shape"
   ]
  },
  {
   "cell_type": "code",
   "execution_count": 265,
   "id": "61b18779",
   "metadata": {},
   "outputs": [],
   "source": [
    "mass_diff = torch.abs(torch.diff(masses, dim=0)) # [f-1, num_objects]\n",
    "edge_mass = edge_mass[:-1]  # [f-1, num_objects]\n",
    "mass_diff = F.relu(mass_diff - edge_mass) # if mass_diff < edge_mass, treat mass_diff as 0. Otherwise, treat as is.\n",
    "conservation_of_mass_loss_1 = mass_diff.sum() # [1], should be zero\n",
    "conservation_of_mass_loss_2 = torch.var(mass_diff, dim=0).sum() # [1], should be small\n",
    "conservation_of_mass_loss_3 = torch.var(masses, dim=0).sum() # [1], should be small for each object\n",
    "conservation_of_mass_loss_4 = torch.abs(mass_diff).sum() # [1], should be small for each object"
   ]
  },
  {
   "cell_type": "code",
   "execution_count": 260,
   "id": "ec4c91e6",
   "metadata": {},
   "outputs": [],
   "source": [
    "momentum = masses.unsqueeze(-1) * com_velocities # [f, num_objects, 2]\n",
    "momentum = momentum[:-1]  # remove last frame which is zero velocity\n",
    "momentum = momentum.permute(0, 2, 1) # [f-1, 2, num_objects]\n",
    "momentum = momentum.sum(dim=-1) # [f-1, 2]\n",
    "momentum_var_loss_1 = torch.var(momentum, dim=0).sum() # [1], should be small on every axis\n",
    "momentum_var_loss_2 = torch.abs(torch.diff(momentum, dim=0)).sum() # [1], should be small on every axis"
   ]
  },
  {
   "cell_type": "code",
   "execution_count": 261,
   "id": "91dc0316",
   "metadata": {},
   "outputs": [],
   "source": [
    "kinetic_energy = 0.5 * masses * torch.norm(com_velocities, dim=-1)**2 # [f, num_objects]\n",
    "kinetic_energy = kinetic_energy[:-1]  # remove last frame which is zero velocity\n",
    "kinetic_energy = kinetic_energy.sum(dim=-1) # [f-1]\n",
    "kinetic_energy_loss_1 = torch.var(kinetic_energy, dim=0) # [1], should be small\n",
    "kinetic_energy_loss_2 = torch.abs(torch.diff(kinetic_energy, dim=0)).sum() # [1], should be small"
   ]
  },
  {
   "cell_type": "code",
   "execution_count": 266,
   "id": "5fc9830a",
   "metadata": {},
   "outputs": [
    {
     "name": "stdout",
     "output_type": "stream",
     "text": [
      "tensor(187.)\n",
      "tensor(90.7237)\n",
      "tensor(389.1095)\n",
      "tensor(187.)\n",
      "tensor(7880.9414)\n",
      "tensor(1266.8353)\n",
      "tensor(1822.3690)\n",
      "tensor(495.9463)\n"
     ]
    }
   ],
   "source": [
    "print(conservation_of_mass_loss_1)\n",
    "print(conservation_of_mass_loss_2)\n",
    "print(conservation_of_mass_loss_3)\n",
    "print(conservation_of_mass_loss_4)\n",
    "print(momentum_var_loss_1)\n",
    "print(momentum_var_loss_2)\n",
    "print(kinetic_energy_loss_1)\n",
    "print(kinetic_energy_loss_2)"
   ]
  },
  {
   "cell_type": "code",
   "execution_count": null,
   "id": "7d018eda",
   "metadata": {},
   "outputs": [],
   "source": []
  }
 ],
 "metadata": {
  "kernelspec": {
   "display_name": "videoenv",
   "language": "python",
   "name": "python3"
  },
  "language_info": {
   "codemirror_mode": {
    "name": "ipython",
    "version": 3
   },
   "file_extension": ".py",
   "mimetype": "text/x-python",
   "name": "python",
   "nbconvert_exporter": "python",
   "pygments_lexer": "ipython3",
   "version": "3.12.9"
  }
 },
 "nbformat": 4,
 "nbformat_minor": 5
}
